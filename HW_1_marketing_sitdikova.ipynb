{
  "nbformat": 4,
  "nbformat_minor": 0,
  "metadata": {
    "colab": {
      "provenance": []
    },
    "kernelspec": {
      "name": "python3",
      "display_name": "Python 3"
    },
    "language_info": {
      "name": "python"
    }
  },
  "cells": [
    {
      "cell_type": "code",
      "execution_count": null,
      "metadata": {
        "id": "96Z2k9sWae_1"
      },
      "outputs": [],
      "source": [
        "#First step is to download the libraries\n",
        "\n",
        "!pip install bstrap\n",
        "import numpy as np\n",
        "import pandas as pd\n",
        "from scipy.stats import mannwhitneyu\n",
        "from bstrap import bootstrap"
      ]
    },
    {
      "cell_type": "code",
      "source": [
        "# Next- download the dataset\n",
        "\n",
        "df = pd.read_csv('kinopoisks_rating.csv',sep = ';', encoding = 'cp1251')"
      ],
      "metadata": {
        "id": "B_C-y3yGal3y"
      },
      "execution_count": 48,
      "outputs": []
    },
    {
      "cell_type": "code",
      "source": [
        "# Now lets analyze the dataset to get an idea of what type of data we are working with\n",
        "\n",
        "len(df)"
      ],
      "metadata": {
        "id": "rpaCcMNNba1k"
      },
      "execution_count": null,
      "outputs": []
    },
    {
      "cell_type": "code",
      "source": [
        "df.head()"
      ],
      "metadata": {
        "colab": {
          "base_uri": "https://localhost:8080/",
          "height": 206
        },
        "id": "6OQ8HyGSbVP2",
        "outputId": "2b7479cb-ee48-4f83-f1f8-2a6b18b540b6"
      },
      "execution_count": 17,
      "outputs": [
        {
          "output_type": "execute_result",
          "data": {
            "text/plain": [
              "   num                             name_rus  rating_new               origin  \\\n",
              "0    1                         Зеленая миля         9.1                  США   \n",
              "1    2                    Побег из Шоушенка         9.1                  США   \n",
              "2    3  Властелин колец: Возвращение короля         8.6  Новая Зеландия/ США   \n",
              "3    4        Властелин колец: Две крепости         8.6  Новая Зеландия/ США   \n",
              "4    5     Властелин колец: Братство Кольца         8.6  Новая Зеландия/ США   \n",
              "\n",
              "                  genre  rating_old  qty_views  \n",
              "0        фэнтези/ драма         8.9     692418  \n",
              "1                 драма         8.9     784326  \n",
              "2  фэнтези/ приключения         8.8     481829  \n",
              "3  фэнтези/ приключения         8.8     467607  \n",
              "4  фэнтези/ приключения         8.8     516856  "
            ],
            "text/html": [
              "\n",
              "  <div id=\"df-a5ac6c12-be10-4a5c-ae50-fcc471d02862\">\n",
              "    <div class=\"colab-df-container\">\n",
              "      <div>\n",
              "<style scoped>\n",
              "    .dataframe tbody tr th:only-of-type {\n",
              "        vertical-align: middle;\n",
              "    }\n",
              "\n",
              "    .dataframe tbody tr th {\n",
              "        vertical-align: top;\n",
              "    }\n",
              "\n",
              "    .dataframe thead th {\n",
              "        text-align: right;\n",
              "    }\n",
              "</style>\n",
              "<table border=\"1\" class=\"dataframe\">\n",
              "  <thead>\n",
              "    <tr style=\"text-align: right;\">\n",
              "      <th></th>\n",
              "      <th>num</th>\n",
              "      <th>name_rus</th>\n",
              "      <th>rating_new</th>\n",
              "      <th>origin</th>\n",
              "      <th>genre</th>\n",
              "      <th>rating_old</th>\n",
              "      <th>qty_views</th>\n",
              "    </tr>\n",
              "  </thead>\n",
              "  <tbody>\n",
              "    <tr>\n",
              "      <th>0</th>\n",
              "      <td>1</td>\n",
              "      <td>Зеленая миля</td>\n",
              "      <td>9.1</td>\n",
              "      <td>США</td>\n",
              "      <td>фэнтези/ драма</td>\n",
              "      <td>8.9</td>\n",
              "      <td>692418</td>\n",
              "    </tr>\n",
              "    <tr>\n",
              "      <th>1</th>\n",
              "      <td>2</td>\n",
              "      <td>Побег из Шоушенка</td>\n",
              "      <td>9.1</td>\n",
              "      <td>США</td>\n",
              "      <td>драма</td>\n",
              "      <td>8.9</td>\n",
              "      <td>784326</td>\n",
              "    </tr>\n",
              "    <tr>\n",
              "      <th>2</th>\n",
              "      <td>3</td>\n",
              "      <td>Властелин колец: Возвращение короля</td>\n",
              "      <td>8.6</td>\n",
              "      <td>Новая Зеландия/ США</td>\n",
              "      <td>фэнтези/ приключения</td>\n",
              "      <td>8.8</td>\n",
              "      <td>481829</td>\n",
              "    </tr>\n",
              "    <tr>\n",
              "      <th>3</th>\n",
              "      <td>4</td>\n",
              "      <td>Властелин колец: Две крепости</td>\n",
              "      <td>8.6</td>\n",
              "      <td>Новая Зеландия/ США</td>\n",
              "      <td>фэнтези/ приключения</td>\n",
              "      <td>8.8</td>\n",
              "      <td>467607</td>\n",
              "    </tr>\n",
              "    <tr>\n",
              "      <th>4</th>\n",
              "      <td>5</td>\n",
              "      <td>Властелин колец: Братство Кольца</td>\n",
              "      <td>8.6</td>\n",
              "      <td>Новая Зеландия/ США</td>\n",
              "      <td>фэнтези/ приключения</td>\n",
              "      <td>8.8</td>\n",
              "      <td>516856</td>\n",
              "    </tr>\n",
              "  </tbody>\n",
              "</table>\n",
              "</div>\n",
              "      <button class=\"colab-df-convert\" onclick=\"convertToInteractive('df-a5ac6c12-be10-4a5c-ae50-fcc471d02862')\"\n",
              "              title=\"Convert this dataframe to an interactive table.\"\n",
              "              style=\"display:none;\">\n",
              "        \n",
              "  <svg xmlns=\"http://www.w3.org/2000/svg\" height=\"24px\"viewBox=\"0 0 24 24\"\n",
              "       width=\"24px\">\n",
              "    <path d=\"M0 0h24v24H0V0z\" fill=\"none\"/>\n",
              "    <path d=\"M18.56 5.44l.94 2.06.94-2.06 2.06-.94-2.06-.94-.94-2.06-.94 2.06-2.06.94zm-11 1L8.5 8.5l.94-2.06 2.06-.94-2.06-.94L8.5 2.5l-.94 2.06-2.06.94zm10 10l.94 2.06.94-2.06 2.06-.94-2.06-.94-.94-2.06-.94 2.06-2.06.94z\"/><path d=\"M17.41 7.96l-1.37-1.37c-.4-.4-.92-.59-1.43-.59-.52 0-1.04.2-1.43.59L10.3 9.45l-7.72 7.72c-.78.78-.78 2.05 0 2.83L4 21.41c.39.39.9.59 1.41.59.51 0 1.02-.2 1.41-.59l7.78-7.78 2.81-2.81c.8-.78.8-2.07 0-2.86zM5.41 20L4 18.59l7.72-7.72 1.47 1.35L5.41 20z\"/>\n",
              "  </svg>\n",
              "      </button>\n",
              "      \n",
              "  <style>\n",
              "    .colab-df-container {\n",
              "      display:flex;\n",
              "      flex-wrap:wrap;\n",
              "      gap: 12px;\n",
              "    }\n",
              "\n",
              "    .colab-df-convert {\n",
              "      background-color: #E8F0FE;\n",
              "      border: none;\n",
              "      border-radius: 50%;\n",
              "      cursor: pointer;\n",
              "      display: none;\n",
              "      fill: #1967D2;\n",
              "      height: 32px;\n",
              "      padding: 0 0 0 0;\n",
              "      width: 32px;\n",
              "    }\n",
              "\n",
              "    .colab-df-convert:hover {\n",
              "      background-color: #E2EBFA;\n",
              "      box-shadow: 0px 1px 2px rgba(60, 64, 67, 0.3), 0px 1px 3px 1px rgba(60, 64, 67, 0.15);\n",
              "      fill: #174EA6;\n",
              "    }\n",
              "\n",
              "    [theme=dark] .colab-df-convert {\n",
              "      background-color: #3B4455;\n",
              "      fill: #D2E3FC;\n",
              "    }\n",
              "\n",
              "    [theme=dark] .colab-df-convert:hover {\n",
              "      background-color: #434B5C;\n",
              "      box-shadow: 0px 1px 3px 1px rgba(0, 0, 0, 0.15);\n",
              "      filter: drop-shadow(0px 1px 2px rgba(0, 0, 0, 0.3));\n",
              "      fill: #FFFFFF;\n",
              "    }\n",
              "  </style>\n",
              "\n",
              "      <script>\n",
              "        const buttonEl =\n",
              "          document.querySelector('#df-a5ac6c12-be10-4a5c-ae50-fcc471d02862 button.colab-df-convert');\n",
              "        buttonEl.style.display =\n",
              "          google.colab.kernel.accessAllowed ? 'block' : 'none';\n",
              "\n",
              "        async function convertToInteractive(key) {\n",
              "          const element = document.querySelector('#df-a5ac6c12-be10-4a5c-ae50-fcc471d02862');\n",
              "          const dataTable =\n",
              "            await google.colab.kernel.invokeFunction('convertToInteractive',\n",
              "                                                     [key], {});\n",
              "          if (!dataTable) return;\n",
              "\n",
              "          const docLinkHtml = 'Like what you see? Visit the ' +\n",
              "            '<a target=\"_blank\" href=https://colab.research.google.com/notebooks/data_table.ipynb>data table notebook</a>'\n",
              "            + ' to learn more about interactive tables.';\n",
              "          element.innerHTML = '';\n",
              "          dataTable['output_type'] = 'display_data';\n",
              "          await google.colab.output.renderOutput(dataTable, element);\n",
              "          const docLink = document.createElement('div');\n",
              "          docLink.innerHTML = docLinkHtml;\n",
              "          element.appendChild(docLink);\n",
              "        }\n",
              "      </script>\n",
              "    </div>\n",
              "  </div>\n",
              "  "
            ]
          },
          "metadata": {},
          "execution_count": 17
        }
      ]
    },
    {
      "cell_type": "code",
      "source": [
        "df.dtypes"
      ],
      "metadata": {
        "colab": {
          "base_uri": "https://localhost:8080/"
        },
        "id": "XSNp_Ep-cI9r",
        "outputId": "172b85ee-3bb2-4a86-b367-17a3d2f5bda8"
      },
      "execution_count": 12,
      "outputs": [
        {
          "output_type": "execute_result",
          "data": {
            "text/plain": [
              "num             int64\n",
              "name_rus       object\n",
              "rating_new    float64\n",
              "origin         object\n",
              "genre          object\n",
              "rating_old    float64\n",
              "qty_views       int64\n",
              "dtype: object"
            ]
          },
          "metadata": {},
          "execution_count": 12
        }
      ]
    },
    {
      "cell_type": "code",
      "source": [
        "#The hypothesis that should be tested:\n",
        "#H0 - there is no statistical difference between rating_new and rating_old\n",
        "#Ha - the difference between rating_new and rating_old exists.\n",
        "\n",
        "#Lets test the difference using Mann-Whitney U test\n",
        "# Firstly, we should check the ratings for all movies\n",
        "mannwhitneyu(df.rating_new,df.rating_old)"
      ],
      "metadata": {
        "colab": {
          "base_uri": "https://localhost:8080/"
        },
        "id": "EvoaSdRacO_9",
        "outputId": "5f535798-d95c-43ed-f6e6-fa000cf4d840"
      },
      "execution_count": 15,
      "outputs": [
        {
          "output_type": "execute_result",
          "data": {
            "text/plain": [
              "MannwhitneyuResult(statistic=31175.5, pvalue=0.9629567921262221)"
            ]
          },
          "metadata": {},
          "execution_count": 15
        }
      ]
    },
    {
      "cell_type": "code",
      "source": [
        "#The results of the tests show that p-value exceeds the value of 0.5 which means that the H0 is confirmed meaning there is no difference in old and new ratings.\n",
        "#Next step is to check the difference for movies with the same origin and the same genre\n",
        "#To do so lets evaluate the most popular groups of origin and genre and use them as an example\n",
        "df['origin'].value_counts().head()\n",
        "df['genre'].value_counts().head()"
      ],
      "metadata": {
        "colab": {
          "base_uri": "https://localhost:8080/"
        },
        "id": "F04gwNH2hnAc",
        "outputId": "929e7b7b-58bb-484f-ca0f-f051e37291bd"
      },
      "execution_count": 49,
      "outputs": [
        {
          "output_type": "execute_result",
          "data": {
            "text/plain": [
              "фантастика/ боевик     19\n",
              "мультфильм/ фэнтези    13\n",
              "драма/ мелодрама       13\n",
              "драма                  12\n",
              "драма/ биография       11\n",
              "Name: genre, dtype: int64"
            ]
          },
          "metadata": {},
          "execution_count": 49
        }
      ]
    },
    {
      "cell_type": "code",
      "source": [
        "df1 = df[df.genre.str.contains('фантастика/ боевик')]\n",
        "df2 = df[df.origin.str.contains('США')]\n",
        "\n",
        "#lets apply the Mann-Whitney U test and see the results \n",
        "mannwhitneyu(df1.rating_new,df1.rating_old)\n",
        "mannwhitneyu(df2.rating_new,df2.rating_old)"
      ],
      "metadata": {
        "colab": {
          "base_uri": "https://localhost:8080/"
        },
        "id": "f0yTdSENfl1H",
        "outputId": "1e5628b3-ae2b-4f8c-e8c7-0d5d1025a401"
      },
      "execution_count": 35,
      "outputs": [
        {
          "output_type": "execute_result",
          "data": {
            "text/plain": [
              "MannwhitneyuResult(statistic=13793.5, pvalue=0.1461184817005307)"
            ]
          },
          "metadata": {},
          "execution_count": 35
        }
      ]
    },
    {
      "cell_type": "code",
      "source": [
        "#First, if we consider the genre of the movies, we can see that the p-value exceeds 0.05 which means that there is no difference in ratings of the genre 'фантастика/ боевик'\n",
        "#Second, the same results are shown with the origin 'США' (p-value is more than 0.05) that also indicate that there is no difference.\n"
      ],
      "metadata": {
        "id": "k43X2ixtlSvC"
      },
      "execution_count": null,
      "outputs": []
    },
    {
      "cell_type": "markdown",
      "source": [],
      "metadata": {
        "id": "FPx6ss9ImfjX"
      }
    },
    {
      "cell_type": "code",
      "source": [
        "#Lets validate the results of the Mann-Whitney U test by conducting another test called Boostrap. For the metric to evaluate the difference between groups we will take the mean."
      ],
      "metadata": {
        "id": "TXFmaZRqmE6n"
      },
      "execution_count": null,
      "outputs": []
    },
    {
      "cell_type": "code",
      "source": [
        "#all sample\n",
        "old, new, p_value = bootstrap(np.mean, df.rating_old, df.rating_new, nbr_runs=10000)\n",
        "print(p_value)"
      ],
      "metadata": {
        "colab": {
          "base_uri": "https://localhost:8080/"
        },
        "id": "JiPyuSRRpsRG",
        "outputId": "0cab4e83-5e1a-4d57-c546-b36c6ba0df1d"
      },
      "execution_count": 41,
      "outputs": [
        {
          "output_type": "stream",
          "name": "stdout",
          "text": [
            "0.8124\n"
          ]
        }
      ]
    },
    {
      "cell_type": "code",
      "source": [
        "#genre\n",
        "old_df1, new_df1, p_value_df1 = bootstrap(np.mean, df1.rating_old, df1.rating_new, nbr_runs=10000)\n",
        "print(p_value_df1)"
      ],
      "metadata": {
        "colab": {
          "base_uri": "https://localhost:8080/"
        },
        "id": "sdBEoBGvpslz",
        "outputId": "c3ff86bf-b407-400c-e626-29d67ec0e527"
      },
      "execution_count": 50,
      "outputs": [
        {
          "output_type": "stream",
          "name": "stdout",
          "text": [
            "0.1537\n"
          ]
        }
      ]
    },
    {
      "cell_type": "code",
      "source": [
        "#origin\n",
        "old_df2, new_df2, p_value_df2 = bootstrap(np.mean, df2.rating_old, df2.rating_new, nbr_runs=10000)\n",
        "print(p_value_df2)"
      ],
      "metadata": {
        "colab": {
          "base_uri": "https://localhost:8080/"
        },
        "id": "Gwso26sop-Mj",
        "outputId": "20b90c8f-be76-41df-aad0-44cc41359954"
      },
      "execution_count": 51,
      "outputs": [
        {
          "output_type": "stream",
          "name": "stdout",
          "text": [
            "0.354\n"
          ]
        }
      ]
    },
    {
      "cell_type": "code",
      "source": [
        "#As the p-values for all of the bootstrap were more than 0.5 - it means that there is no difference between the ratings and the results that that were obtained earlier are proven."
      ],
      "metadata": {
        "id": "Wo7xlRcEsz1e"
      },
      "execution_count": null,
      "outputs": []
    }
  ]
}